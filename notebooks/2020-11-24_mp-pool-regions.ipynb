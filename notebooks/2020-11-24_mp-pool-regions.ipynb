{
 "cells": [
  {
   "cell_type": "markdown",
   "metadata": {},
   "source": [
    "In this notebook I will trial a working concept of the core functionality.\n",
    "\n",
    "Main design:\n",
    "- Indexed bam file is read by multiple workers in paralllel\n",
    "- Each worker fetches a region and applies a user-specified function over the region.\n",
    "- Regions can be specified manually by user, or defined automatically according to different schemes. First scheme to implement is `byfeature` which bins genome into N non-overlapping regions that each contain features of coordinates `(start, end)` such that each feature is contained in only one region."
   ]
  },
  {
   "cell_type": "code",
   "execution_count": 1,
   "metadata": {},
   "outputs": [],
   "source": [
    "import pysam\n",
    "import mppysam.read_bam as rb\n",
    "import mppysam.regions as rg\n",
    "import timeit\n",
    "import matplotlib.pyplot as plt"
   ]
  },
  {
   "cell_type": "code",
   "execution_count": 2,
   "metadata": {},
   "outputs": [],
   "source": [
    "bamfilepath = \"../data/SLX-18505_N701_A03_r2.umiAppend.Aligned.out.featureCounts.sorted.bam\""
   ]
  },
  {
   "cell_type": "code",
   "execution_count": 3,
   "metadata": {},
   "outputs": [],
   "source": [
    "samfile = pysam.AlignmentFile(bamfilepath, \"rb\")"
   ]
  },
  {
   "cell_type": "code",
   "execution_count": 16,
   "metadata": {},
   "outputs": [
    {
     "name": "stdout",
     "output_type": "stream",
     "text": [
      "contigs 352 - mapped reads 1773360 - unmapped reads 0\n"
     ]
    }
   ],
   "source": [
    "print(\n",
    "    \"contigs\", samfile.nreferences,\n",
    "    \"- mapped reads\", sum(mapped for _, mapped, unmapped, total in samfile.get_index_statistics()),\n",
    "    \"- unmapped reads\", sum(unmapped for _, mapped, unmapped, total in samfile.get_index_statistics())\n",
    ")"
   ]
  },
  {
   "cell_type": "code",
   "execution_count": 5,
   "metadata": {},
   "outputs": [
    {
     "data": {
      "text/plain": [
       "('1.human',\n",
       " '10.human',\n",
       " '11.human',\n",
       " '12.human',\n",
       " '13.human',\n",
       " '14.human',\n",
       " '15.human',\n",
       " '16.human',\n",
       " '17.human')"
      ]
     },
     "execution_count": 5,
     "metadata": {},
     "output_type": "execute_result"
    }
   ],
   "source": [
    "samfile.references[0:9]"
   ]
  },
  {
   "cell_type": "code",
   "execution_count": 78,
   "metadata": {},
   "outputs": [
    {
     "data": {
      "text/plain": [
       "121946"
      ]
     },
     "execution_count": 78,
     "metadata": {},
     "output_type": "execute_result"
    }
   ],
   "source": [
    "samfile.count('1.human', 0, 1e8)"
   ]
  },
  {
   "cell_type": "code",
   "execution_count": 2,
   "metadata": {},
   "outputs": [],
   "source": [
    "def benchmark_read_bam(bampath=None, **kwargs):\n",
    "    bampath = bamfilepath if bampath is None else bampath\n",
    "    rb.read_bam(bampath, **kwargs)\n",
    "\n",
    "def benchmark_effect_chunks(chunks_args, bampath=None, number=3,\n",
    "                            **kwargs):\n",
    "    timings = [\n",
    "        timeit.timeit(\n",
    "            lambda: benchmark_read_bam(\n",
    "                bampath,\n",
    "                processes=1,\n",
    "                regions=[rg.Region(\"1.human\", 0, 1e8)], #120k reads\n",
    "                chunks=chunks,\n",
    "                **kwargs\n",
    "            ),\n",
    "            number=number\n",
    "        ) / number\n",
    "        for chunks in chunks_args\n",
    "    ]\n",
    "    return chunks_args, timings\n",
    "\n",
    "def benchmark_effect_processes(processes_args, bampath=None, number=3,\n",
    "                               **kwargs):\n",
    "    timings = [\n",
    "        timeit.timeit(\n",
    "            lambda: benchmark_read_bam(\n",
    "                bampath,\n",
    "                processes=processes,\n",
    "                chunks=processes,\n",
    "                **kwargs\n",
    "            ),\n",
    "            number=number\n",
    "        ) / number\n",
    "        for processes in processes_args\n",
    "    ]\n",
    "    return processes_args, timings"
   ]
  },
  {
   "cell_type": "code",
   "execution_count": 80,
   "metadata": {},
   "outputs": [
    {
     "data": {
      "text/plain": [
       "Text(0.5, 1.0, 'Effect of chunking on performance.\\n 100Mb genomic region - 120k reads - 1 process.')"
      ]
     },
     "execution_count": 80,
     "metadata": {},
     "output_type": "execute_result"
    },
    {
     "data": {
      "image/png": "[encoded data removed]",
      "text/plain": [
       "<Figure size 432x288 with 1 Axes>"
      ]
     },
     "metadata": {
      "needs_background": "light"
     },
     "output_type": "display_data"
    }
   ],
   "source": [
    "plt.scatter(*benchmark_effect_chunks(chunks_args = range(1, 1000, 100)))\n",
    "plt.xlabel(\"#chunks\")\n",
    "plt.ylabel(\"Run time (s)\")\n",
    "plt.title(\"Effect of chunking on performance.\\n 100Mb genomic region - 120k reads - 1 process.\")"
   ]
  },
  {
   "cell_type": "code",
   "execution_count": 74,
   "metadata": {},
   "outputs": [
    {
     "data": {
      "text/plain": [
       "Text(0.5, 1.0, 'Effect of processes on performance.\\n Whole genome.')"
      ]
     },
     "execution_count": 74,
     "metadata": {},
     "output_type": "execute_result"
    },
    {
     "data": {
      "image/png": "[encoded data removed]",
      "text/plain": [
       "<Figure size 432x288 with 1 Axes>"
      ]
     },
     "metadata": {
      "needs_background": "light"
     },
     "output_type": "display_data"
    }
   ],
   "source": [
    "plt.scatter(\n",
    "    *benchmark_effect_processes(processes_args = (1, 2, 4, 6, 8, 12, 16)))\n",
    "plt.xlabel(\"#processes\")\n",
    "plt.ylabel(\"Run time (s)\")\n",
    "plt.title(\"Effect of processes on performance.\\n 1.7M reads.\")"
   ]
  },
  {
   "cell_type": "code",
   "execution_count": 3,
   "metadata": {},
   "outputs": [],
   "source": [
    "largerbampath = \"/servers/bio-shares-3/chalut/jb2094/projects/190701_shu_GSE115943/map/D14_2i_C1.bam\""
   ]
  },
  {
   "cell_type": "code",
   "execution_count": 4,
   "metadata": {},
   "outputs": [
    {
     "name": "stdout",
     "output_type": "stream",
     "text": [
      "contigs 66 - mapped reads 100502822 - unmapped reads 0\n"
     ]
    }
   ],
   "source": [
    "samfile = pysam.AlignmentFile(largerbampath, \"rb\")\n",
    "print(\n",
    "    \"contigs\", samfile.nreferences,\n",
    "    \"- mapped reads\", sum(mapped for _, mapped, unmapped, total in samfile.get_index_statistics()),\n",
    "    \"- unmapped reads\", sum(unmapped for _, mapped, unmapped, total in samfile.get_index_statistics())\n",
    ")"
   ]
  },
  {
   "cell_type": "code",
   "execution_count": 8,
   "metadata": {},
   "outputs": [
    {
     "data": {
      "text/plain": [
       "Text(0.5, 1.0, 'Effect of processes on performance.\\n 100M reads - get_read_name()')"
      ]
     },
     "execution_count": 8,
     "metadata": {},
     "output_type": "execute_result"
    },
    {
     "data": {
      "image/png": "[encoded data removed]",
      "text/plain": [
       "<Figure size 432x288 with 1 Axes>"
      ]
     },
     "metadata": {
      "needs_background": "light"
     },
     "output_type": "display_data"
    }
   ],
   "source": [
    "def get_read_name(read):\n",
    "    return read.query_name\n",
    "\n",
    "plt.scatter(\n",
    "    *benchmark_effect_processes(\n",
    "        processes_args=(8, 16),\n",
    "        bampath=largerbampath,\n",
    "        number=1,\n",
    "        row_func=get_read_name\n",
    "    )\n",
    ")\n",
    "plt.xlabel(\"#processes\")\n",
    "plt.ylabel(\"Run time (s)\")\n",
    "plt.title(\"Effect of processes on performance.\\n 100M reads - get_read_name()\")"
   ]
  }
 ],
 "metadata": {
  "kernelspec": {
   "display_name": "Python [conda env:mppysam]",
   "language": "python",
   "name": "conda-env-mppysam-py"
  },
  "language_info": {
   "codemirror_mode": {
    "name": "ipython",
    "version": 3
   },
   "file_extension": ".py",
   "mimetype": "text/x-python",
   "name": "python",
   "nbconvert_exporter": "python",
   "pygments_lexer": "ipython3",
   "version": "3.8.5"
  }
 },
 "nbformat": 4,
 "nbformat_minor": 4
}
