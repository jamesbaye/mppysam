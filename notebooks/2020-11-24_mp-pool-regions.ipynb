{
 "cells": [
  {
   "cell_type": "markdown",
   "metadata": {},
   "source": [
    "In this notebook I will trial a working concept of the core functionality.\n",
    "\n",
    "Main design:\n",
    "- Indexed bam file is read by multiple workers in paralllel\n",
    "- Each worker fetches a region and applies a user-specified function over the region.\n",
    "- Regions can be specified manually by user, or defined automatically according to different schemes. First scheme to implement is `byfeature` which bins genome into N non-overlapping regions that each contain features of coordinates `(start, end)` such that each feature is contained in only one region."
   ]
  },
  {
   "cell_type": "code",
   "execution_count": 1,
   "metadata": {},
   "outputs": [],
   "source": [
    "import pysam\n",
    "import mppysam.read_bam as rb\n",
    "from datetime import datetime"
   ]
  },
  {
   "cell_type": "code",
   "execution_count": 2,
   "metadata": {},
   "outputs": [],
   "source": [
    "bamfilepath = \"../data/SLX-18505_N701_A03_r2.umiAppend.Aligned.out.featureCounts.sorted.bam\""
   ]
  },
  {
   "cell_type": "code",
   "execution_count": 3,
   "metadata": {},
   "outputs": [],
   "source": [
    "samfile = pysam.AlignmentFile(bamfilepath, \"rb\")"
   ]
  },
  {
   "cell_type": "code",
   "execution_count": 4,
   "metadata": {},
   "outputs": [
    {
     "data": {
      "text/plain": [
       "(248956422,\n",
       " 133797422,\n",
       " 135086622,\n",
       " 133275309,\n",
       " 114364328,\n",
       " 107043718,\n",
       " 101991189,\n",
       " 90338345,\n",
       " 83257441)"
      ]
     },
     "execution_count": 4,
     "metadata": {},
     "output_type": "execute_result"
    }
   ],
   "source": [
    "samfile.lengths[0:9]"
   ]
  },
  {
   "cell_type": "code",
   "execution_count": 5,
   "metadata": {},
   "outputs": [
    {
     "data": {
      "text/plain": [
       "('1.human',\n",
       " '10.human',\n",
       " '11.human',\n",
       " '12.human',\n",
       " '13.human',\n",
       " '14.human',\n",
       " '15.human',\n",
       " '16.human',\n",
       " '17.human')"
      ]
     },
     "execution_count": 5,
     "metadata": {},
     "output_type": "execute_result"
    }
   ],
   "source": [
    "samfile.references[0:9]"
   ]
  },
  {
   "cell_type": "code",
   "execution_count": 6,
   "metadata": {},
   "outputs": [
    {
     "data": {
      "text/plain": [
       "352"
      ]
     },
     "execution_count": 6,
     "metadata": {},
     "output_type": "execute_result"
    }
   ],
   "source": [
    "samfile.nreferences"
   ]
  },
  {
   "cell_type": "code",
   "execution_count": 7,
   "metadata": {},
   "outputs": [
    {
     "name": "stdout",
     "output_type": "stream",
     "text": [
      "2020-11-27 18:56:07.635149\n",
      "2020-11-27 18:56:39.494383\n"
     ]
    }
   ],
   "source": [
    "print(datetime.now())\n",
    "bam = rb.read_bam(bamfilepath, processes=1)\n",
    "print(datetime.now())"
   ]
  },
  {
   "cell_type": "code",
   "execution_count": 8,
   "metadata": {},
   "outputs": [
    {
     "name": "stdout",
     "output_type": "stream",
     "text": [
      "2020-11-27 18:56:39.504260\n",
      "2020-11-27 18:57:03.360582\n"
     ]
    }
   ],
   "source": [
    "print(datetime.now())\n",
    "bam = rb.read_bam(bamfilepath, processes=3)\n",
    "print(datetime.now())"
   ]
  },
  {
   "cell_type": "code",
   "execution_count": 9,
   "metadata": {},
   "outputs": [
    {
     "name": "stdout",
     "output_type": "stream",
     "text": [
      "2020-11-27 18:57:03.365315\n",
      "2020-11-27 18:57:08.036760\n"
     ]
    }
   ],
   "source": [
    "print(datetime.now())\n",
    "bam = rb.read_bam(bamfilepath, processes=1, contigs=[\"1.human\"])\n",
    "print(datetime.now())"
   ]
  },
  {
   "cell_type": "code",
   "execution_count": 10,
   "metadata": {},
   "outputs": [
    {
     "name": "stdout",
     "output_type": "stream",
     "text": [
      "2020-11-27 18:57:08.046944\n",
      "2020-11-27 18:57:11.639905\n"
     ]
    }
   ],
   "source": [
    "n_contigs = 3\n",
    "print(datetime.now())\n",
    "bam = rb.read_bam(\n",
    "    bamfilepath, processes=n_contigs,\n",
    "    contigs=[str(chrom)+\".human\" for chrom in range(1,n_contigs+1)])\n",
    "print(datetime.now())"
   ]
  }
 ],
 "metadata": {
  "kernelspec": {
   "display_name": "Python [conda env:mppysam]",
   "language": "python",
   "name": "conda-env-mppysam-py"
  },
  "language_info": {
   "codemirror_mode": {
    "name": "ipython",
    "version": 3
   },
   "file_extension": ".py",
   "mimetype": "text/x-python",
   "name": "python",
   "nbconvert_exporter": "python",
   "pygments_lexer": "ipython3",
   "version": "3.7.9"
  }
 },
 "nbformat": 4,
 "nbformat_minor": 4
}
