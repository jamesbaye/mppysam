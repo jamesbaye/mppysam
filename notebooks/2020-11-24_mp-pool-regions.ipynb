{
 "cells": [
  {
   "cell_type": "markdown",
   "metadata": {},
   "source": [
    "In this notebook I will trial a working concept of the core functionality.\n",
    "\n",
    "Main design:\n",
    "- Indexed bam file is read by multiple workers in paralllel\n",
    "- Each worker fetches a region and applies a user-specified function over the region.\n",
    "- Regions can be specified manually by user, or defined automatically according to different schemes. First scheme to implement is `byfeature` which bins genome into N non-overlapping regions that each contain features of coordinates `(start, end)` such that each feature is contained in only one region."
   ]
  },
  {
   "cell_type": "code",
   "execution_count": null,
   "metadata": {},
   "outputs": [],
   "source": []
  }
 ],
 "metadata": {
  "kernelspec": {
   "display_name": "Python [conda env:mppysam]",
   "language": "python",
   "name": "conda-env-mppysam-py"
  },
  "language_info": {
   "codemirror_mode": {
    "name": "ipython",
    "version": 3
   },
   "file_extension": ".py",
   "mimetype": "text/x-python",
   "name": "python",
   "nbconvert_exporter": "python",
   "pygments_lexer": "ipython3",
   "version": "3.7.9"
  }
 },
 "nbformat": 4,
 "nbformat_minor": 4
}
