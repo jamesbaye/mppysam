{
 "cells": [
  {
   "cell_type": "markdown",
   "metadata": {},
   "source": [
    "In this notebook I will trial a working concept of the core functionality.\n",
    "\n",
    "Main design:\n",
    "- Indexed bam file is read by multiple workers in paralllel\n",
    "- Each worker fetches a region and applies a user-specified function over the region.\n",
    "- Regions can be specified manually by user, or defined automatically according to different schemes. First scheme to implement is `byfeature` which bins genome into N non-overlapping regions that each contain features of coordinates `(start, end)` such that each feature is contained in only one region."
   ]
  },
  {
   "cell_type": "code",
   "execution_count": 1,
   "metadata": {},
   "outputs": [],
   "source": [
    "import multiprocessing as mp\n",
    "import pysam\n",
    "import pandas as pd\n",
    "from datetime import datetime"
   ]
  },
  {
   "cell_type": "code",
   "execution_count": 2,
   "metadata": {},
   "outputs": [],
   "source": [
    "bamfilepath = \"../data/SLX-18505_N701_A03_r2.umiAppend.Aligned.out.featureCounts.sorted.bam\""
   ]
  },
  {
   "cell_type": "code",
   "execution_count": 3,
   "metadata": {},
   "outputs": [],
   "source": [
    "samfile = pysam.AlignmentFile(bamfilepath, \"rb\")"
   ]
  },
  {
   "cell_type": "code",
   "execution_count": 4,
   "metadata": {},
   "outputs": [
    {
     "data": {
      "text/plain": [
       "(248956422,\n",
       " 133797422,\n",
       " 135086622,\n",
       " 133275309,\n",
       " 114364328,\n",
       " 107043718,\n",
       " 101991189,\n",
       " 90338345,\n",
       " 83257441)"
      ]
     },
     "execution_count": 4,
     "metadata": {},
     "output_type": "execute_result"
    }
   ],
   "source": [
    "samfile.lengths[0:9]"
   ]
  },
  {
   "cell_type": "code",
   "execution_count": 5,
   "metadata": {},
   "outputs": [
    {
     "data": {
      "text/plain": [
       "('1.human',\n",
       " '10.human',\n",
       " '11.human',\n",
       " '12.human',\n",
       " '13.human',\n",
       " '14.human',\n",
       " '15.human',\n",
       " '16.human',\n",
       " '17.human')"
      ]
     },
     "execution_count": 5,
     "metadata": {},
     "output_type": "execute_result"
    }
   ],
   "source": [
    "samfile.references[0:9]"
   ]
  },
  {
   "cell_type": "code",
   "execution_count": 6,
   "metadata": {},
   "outputs": [
    {
     "data": {
      "text/plain": [
       "352"
      ]
     },
     "execution_count": 6,
     "metadata": {},
     "output_type": "execute_result"
    }
   ],
   "source": [
    "samfile.nreferences"
   ]
  },
  {
   "cell_type": "code",
   "execution_count": 7,
   "metadata": {},
   "outputs": [],
   "source": [
    "def fetch(bamfilepath, contig=None, start=None, end=None):\n",
    "    samfile = pysam.AlignmentFile(bamfilepath, \"rb\")\n",
    "    reads = []\n",
    "    for read in samfile.fetch(contig, start, end):\n",
    "        reads.append((read.query_name, ))\n",
    "    samfile.close()\n",
    "    return reads\n",
    "\n",
    "def apply(func, args_df, processes=None, timeout=None):\n",
    "    output = []\n",
    "    with mp.Pool(processes=processes) as pool:\n",
    "        results = []\n",
    "        for i in range(len(args_df.index)):\n",
    "            results.append(pool.apply_async(func, args_df.iloc[i,]))\n",
    "        output = [res.get(timeout=timeout) for res in results]\n",
    "    return output\n",
    "\n",
    "def read_bam(bamfilepath, contigs=None, starts=None, ends=None, processes=None, timeout=None, chunks=None):\n",
    "    kwargs_df = make_fetch_args(bamfilepath, contigs, starts, ends, chunks)\n",
    "    res = apply(fetch, kwargs_df, processes=processes, timeout=timeout)\n",
    "    return res\n",
    "\n",
    "def make_fetch_args(bamfilepath, contigs, starts, ends, chunks):\n",
    "    if contigs is None:\n",
    "        contigs = get_all_contigs(bamfilepath)\n",
    "    if chunks is None or chunks < len(contigs):\n",
    "        kwargs_df = pd.DataFrame({\n",
    "            \"bamfilepath\": bamfilepath,\n",
    "            \"contig\": contigs\n",
    "        })\n",
    "    else:\n",
    "        # split contigs by len in order to get right number of chunks\n",
    "        raise NotImplementedError\n",
    "    return kwargs_df\n",
    "\n",
    "def get_all_contigs(bamfilepath):\n",
    "    with pysam.AlignmentFile(bamfilepath, \"rb\") as samfile:\n",
    "        contigs = samfile.references\n",
    "    return contigs"
   ]
  },
  {
   "cell_type": "code",
   "execution_count": 8,
   "metadata": {},
   "outputs": [
    {
     "name": "stdout",
     "output_type": "stream",
     "text": [
      "2020-11-27 16:45:06.213315\n",
      "2020-11-27 16:45:12.381814\n"
     ]
    }
   ],
   "source": [
    "print(datetime.now())\n",
    "bam = read_bam(bamfilepath, processes=1)\n",
    "print(datetime.now())"
   ]
  },
  {
   "cell_type": "code",
   "execution_count": 9,
   "metadata": {},
   "outputs": [
    {
     "name": "stdout",
     "output_type": "stream",
     "text": [
      "2020-11-27 16:45:12.389575\n",
      "2020-11-27 16:45:14.085814\n"
     ]
    }
   ],
   "source": [
    "print(datetime.now())\n",
    "bam = read_bam(bamfilepath, processes=8)\n",
    "print(datetime.now())"
   ]
  },
  {
   "cell_type": "code",
   "execution_count": 10,
   "metadata": {},
   "outputs": [
    {
     "name": "stdout",
     "output_type": "stream",
     "text": [
      "2020-11-27 16:45:14.092215\n",
      "2020-11-27 16:45:14.994387\n"
     ]
    }
   ],
   "source": [
    "print(datetime.now())\n",
    "bam = read_bam(bamfilepath, processes=1, contigs=[\"1.human\"])\n",
    "print(datetime.now())"
   ]
  },
  {
   "cell_type": "code",
   "execution_count": 11,
   "metadata": {},
   "outputs": [
    {
     "name": "stdout",
     "output_type": "stream",
     "text": [
      "2020-11-27 16:45:15.001242\n",
      "2020-11-27 16:45:15.704204\n"
     ]
    }
   ],
   "source": [
    "n_contigs = 4\n",
    "print(datetime.now())\n",
    "bam = read_bam(\n",
    "    bamfilepath, processes=n_contigs,\n",
    "    contigs=[str(chrom)+\".human\" for chrom in range(1,n_contigs+1)])\n",
    "print(datetime.now())"
   ]
  },
  {
   "cell_type": "code",
   "execution_count": 12,
   "metadata": {},
   "outputs": [
    {
     "name": "stdout",
     "output_type": "stream",
     "text": [
      "2020-11-27 16:45:15.710732\n",
      "2020-11-27 16:45:16.506788\n"
     ]
    }
   ],
   "source": [
    "n_contigs = 8\n",
    "print(datetime.now())\n",
    "bam = read_bam(\n",
    "    bamfilepath, processes=n_contigs,\n",
    "    contigs=[str(chrom)+\".human\" for chrom in range(1,n_contigs+1)])\n",
    "print(datetime.now())"
   ]
  }
 ],
 "metadata": {
  "kernelspec": {
   "display_name": "Python [conda env:pysam]",
   "language": "python",
   "name": "conda-env-pysam-py"
  },
  "language_info": {
   "codemirror_mode": {
    "name": "ipython",
    "version": 3
   },
   "file_extension": ".py",
   "mimetype": "text/x-python",
   "name": "python",
   "nbconvert_exporter": "python",
   "pygments_lexer": "ipython3",
   "version": "3.7.9"
  }
 },
 "nbformat": 4,
 "nbformat_minor": 4
}
