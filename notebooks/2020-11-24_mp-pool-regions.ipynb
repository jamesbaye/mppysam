{
 "cells": [
  {
   "cell_type": "markdown",
   "metadata": {},
   "source": [
    "In this notebook I will trial a working concept of the core functionality.\n",
    "\n",
    "Main design:\n",
    "- Indexed bam file is read by multiple workers in paralllel\n",
    "- Each worker fetches a region and applies a user-specified function over the region.\n",
    "- Regions can be specified manually by user, or defined automatically according to different schemes. First scheme to implement is `byfeature` which bins genome into N non-overlapping regions that each contain features of coordinates `(start, end)` such that each feature is contained in only one region."
   ]
  },
  {
   "cell_type": "code",
   "execution_count": 38,
   "metadata": {},
   "outputs": [],
   "source": [
    "import multiprocessing as mp\n",
    "import pysam\n",
    "import pandas as pd\n",
    "from datetime import datetime"
   ]
  },
  {
   "cell_type": "code",
   "execution_count": 20,
   "metadata": {},
   "outputs": [],
   "source": [
    "bamfilepath = \"../data/SLX-18505_N701_A03_r2.umiAppend.Aligned.out.featureCounts.sorted.bam\""
   ]
  },
  {
   "cell_type": "code",
   "execution_count": 21,
   "metadata": {},
   "outputs": [],
   "source": [
    "samfile = pysam.AlignmentFile(bamfilepath, \"rb\")"
   ]
  },
  {
   "cell_type": "code",
   "execution_count": 19,
   "metadata": {},
   "outputs": [
    {
     "data": {
      "text/plain": [
       "(133797422,\n",
       " 135086622,\n",
       " 133275309,\n",
       " 114364328,\n",
       " 107043718,\n",
       " 101991189,\n",
       " 90338345,\n",
       " 83257441,\n",
       " 80373285)"
      ]
     },
     "execution_count": 19,
     "metadata": {},
     "output_type": "execute_result"
    }
   ],
   "source": [
    "samfile.lengths[1:10]"
   ]
  },
  {
   "cell_type": "code",
   "execution_count": 4,
   "metadata": {},
   "outputs": [
    {
     "data": {
      "text/plain": [
       "352"
      ]
     },
     "execution_count": 4,
     "metadata": {},
     "output_type": "execute_result"
    }
   ],
   "source": [
    "samfile.nreferences"
   ]
  },
  {
   "cell_type": "code",
   "execution_count": 50,
   "metadata": {},
   "outputs": [],
   "source": [
    "def fetch(bamfilepath, contig=None, start=None, end=None):\n",
    "    samfile = pysam.AlignmentFile(bamfilepath, \"rb\")\n",
    "    reads = []\n",
    "    for read in samfile.fetch(contig, start, end):\n",
    "        reads.append((read.query_name, read.get_tag(\"XS:Z\")))\n",
    "    samfile.close()\n",
    "    return reads\n",
    "\n",
    "def apply(func, args_df, processes=None, timeout=None):\n",
    "    results = []\n",
    "    with mp.Pool(processes=processes) as pool:\n",
    "        for i in range(len(args_df.index)):\n",
    "            res = pool.apply_async(func, args_df.iloc[i,])\n",
    "            results.append(res.get(timeout=timeout))\n",
    "    return results\n",
    "\n",
    "def read_bam(bamfilepath, contigs=None, starts=None, ends=None, processes=None, timeout=None, chunks=None):\n",
    "    kwargs_df = make_fetch_args(bamfilepath, contigs, starts, ends, chunks)\n",
    "    res = apply(fetch, kwargs_df, processes=processes, timeout=timeout)\n",
    "    return res\n",
    "\n",
    "def make_fetch_args(bamfilepath, contigs, starts, ends, chunks):\n",
    "    with pysam.AlignmentFile(bamfilepath, \"rb\") as samfile:\n",
    "        contig_names = samfile.references\n",
    "        contig_lens = samfile.lengths\n",
    "    if chunks is None or chunks < len(contig_names):\n",
    "        kwargs_df = pd.DataFrame({\n",
    "            \"bamfilepath\": bamfilepath,\n",
    "            \"contig\": contig_names\n",
    "        })\n",
    "    else:\n",
    "        # split contigs by len in order to get right number of chunks\n",
    "        raise NotImplementedError\n",
    "    return kwargs_df"
   ]
  },
  {
   "cell_type": "code",
   "execution_count": 51,
   "metadata": {},
   "outputs": [
    {
     "name": "stdout",
     "output_type": "stream",
     "text": [
      "2020-11-26 00:17:04.838269\n",
      "2020-11-26 00:17:10.987579\n"
     ]
    }
   ],
   "source": [
    "print(datetime.now())\n",
    "bam = read_bam(bamfilepath, processes=1)\n",
    "print(datetime.now())"
   ]
  },
  {
   "cell_type": "code",
   "execution_count": 52,
   "metadata": {},
   "outputs": [
    {
     "name": "stdout",
     "output_type": "stream",
     "text": [
      "2020-11-26 00:17:10.994089\n",
      "2020-11-26 00:17:17.174397\n"
     ]
    }
   ],
   "source": [
    "print(datetime.now())\n",
    "bam = read_bam(bamfilepath, processes=2)\n",
    "print(datetime.now())"
   ]
  },
  {
   "cell_type": "code",
   "execution_count": 53,
   "metadata": {},
   "outputs": [
    {
     "name": "stdout",
     "output_type": "stream",
     "text": [
      "2020-11-26 00:17:17.179578\n",
      "2020-11-26 00:17:23.461858\n"
     ]
    }
   ],
   "source": [
    "print(datetime.now())\n",
    "bam = read_bam(bamfilepath, processes=4)\n",
    "print(datetime.now())"
   ]
  }
 ],
 "metadata": {
  "kernelspec": {
   "display_name": "Python [conda env:mppysam]",
   "language": "python",
   "name": "conda-env-mppysam-py"
  },
  "language_info": {
   "codemirror_mode": {
    "name": "ipython",
    "version": 3
   },
   "file_extension": ".py",
   "mimetype": "text/x-python",
   "name": "python",
   "nbconvert_exporter": "python",
   "pygments_lexer": "ipython3",
   "version": "3.7.9"
  }
 },
 "nbformat": 4,
 "nbformat_minor": 4
}
